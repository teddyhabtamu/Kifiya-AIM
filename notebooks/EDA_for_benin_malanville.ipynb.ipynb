{
 "cells": [
  {
   "cell_type": "markdown",
   "metadata": {},
   "source": [
    "``Introduction``"
   ]
  },
  {
   "cell_type": "markdown",
   "metadata": {},
   "source": [
    "`Summary Statistics`\n",
    "mean, median, standard deviation and other statistical measures"
   ]
  },
  {
   "cell_type": "code",
   "execution_count": null,
   "metadata": {},
   "outputs": [
    {
     "name": "stdout",
     "output_type": "stream",
     "text": [
      "          Timestamp  GHI  DNI  DHI  ModA  ModB  Tamb    RH   WS  WSgust  \\\n",
      "0  2021-08-09 00:01 -1.2 -0.2 -1.1   0.0   0.0  26.2  93.4  0.0     0.4   \n",
      "1  2021-08-09 00:02 -1.1 -0.2 -1.1   0.0   0.0  26.2  93.6  0.0     0.0   \n",
      "2  2021-08-09 00:03 -1.1 -0.2 -1.1   0.0   0.0  26.2  93.7  0.3     1.1   \n",
      "3  2021-08-09 00:04 -1.1 -0.1 -1.0   0.0   0.0  26.2  93.3  0.2     0.7   \n",
      "4  2021-08-09 00:05 -1.0 -0.1 -1.0   0.0   0.0  26.2  93.3  0.1     0.7   \n",
      "\n",
      "   WSstdev     WD  WDstdev   BP  Cleaning  Precipitation  TModA  TModB  \\\n",
      "0      0.1  122.1      0.0  998         0            0.0   26.3   26.2   \n",
      "1      0.0    0.0      0.0  998         0            0.0   26.3   26.2   \n",
      "2      0.5  124.6      1.5  997         0            0.0   26.4   26.2   \n",
      "3      0.4  120.3      1.3  997         0            0.0   26.4   26.3   \n",
      "4      0.3  113.2      1.0  997         0            0.0   26.4   26.3   \n",
      "\n",
      "   Comments  \n",
      "0       NaN  \n",
      "1       NaN  \n",
      "2       NaN  \n",
      "3       NaN  \n",
      "4       NaN  \n",
      "                  count        mean         std    min    25%    50%    75%  \\\n",
      "GHI            525600.0  240.559452  331.131327  -12.9   -2.0    1.8  483.4   \n",
      "DNI            525600.0  167.187516  261.710501   -7.8   -0.5   -0.1  314.2   \n",
      "DHI            525600.0  115.358961  158.691074  -12.6   -2.1    1.6  216.3   \n",
      "ModA           525600.0  236.589496  326.894859    0.0    0.0    4.5  463.7   \n",
      "ModB           525600.0  228.883576  316.536515    0.0    0.0    4.3  447.9   \n",
      "Tamb           525600.0   28.179683    5.924297   11.0   24.2   28.0   32.3   \n",
      "RH             525600.0   54.487969   28.073069    2.1   28.8   55.1   80.1   \n",
      "WS             525600.0    2.121113    1.603466    0.0    1.0    1.9    3.1   \n",
      "WSgust         525600.0    2.809195    2.029120    0.0    1.3    2.6    4.1   \n",
      "WSstdev        525600.0    0.473390    0.273395    0.0    0.4    0.5    0.6   \n",
      "WD             525600.0  153.435172  102.332842    0.0   59.0  181.0  235.1   \n",
      "WDstdev        525600.0    8.582407    6.385864    0.0    3.7    8.6   12.3   \n",
      "BP             525600.0  994.197199    2.474993  985.0  993.0  994.0  996.0   \n",
      "Cleaning       525600.0    0.000923    0.030363    0.0    0.0    0.0    0.0   \n",
      "Precipitation  525600.0    0.001905    0.037115    0.0    0.0    0.0    0.0   \n",
      "TModA          525600.0   35.246026   14.807258    9.0   24.2   30.0   46.9   \n",
      "TModB          525600.0   32.471736   12.348743    8.1   23.6   28.9   41.5   \n",
      "Comments            0.0         NaN         NaN    NaN    NaN    NaN    NaN   \n",
      "\n",
      "                  max  median  \n",
      "GHI            1413.0     1.8  \n",
      "DNI             952.3    -0.1  \n",
      "DHI             759.2     1.6  \n",
      "ModA           1342.3     4.5  \n",
      "ModB           1342.3     4.3  \n",
      "Tamb             43.8    28.0  \n",
      "RH              100.0    55.1  \n",
      "WS               19.5     1.9  \n",
      "WSgust           26.6     2.6  \n",
      "WSstdev           4.2     0.5  \n",
      "WD              360.0   181.0  \n",
      "WDstdev          99.4     8.6  \n",
      "BP             1003.0   994.0  \n",
      "Cleaning          1.0     0.0  \n",
      "Precipitation     2.5     0.0  \n",
      "TModA            81.0    30.0  \n",
      "TModB            72.5    28.9  \n",
      "Comments          NaN     NaN  \n"
     ]
    }
   ],
   "source": [
    "import pandas as pd\n",
    "import numpy as np\n",
    "\n",
    "data = pd.read_csv('../data/raw_data/benin-malanville.csv')\n",
    "\n",
    "print(data.head())\n",
    "\n",
    "summary_stats = data.describe().transpose()\n",
    "\n",
    "print(summary_stats)\n"
   ]
  },
  {
   "cell_type": "markdown",
   "metadata": {},
   "source": []
  }
 ],
 "metadata": {
  "kernelspec": {
   "display_name": ".venv",
   "language": "python",
   "name": "python3"
  },
  "language_info": {
   "codemirror_mode": {
    "name": "ipython",
    "version": 3
   },
   "file_extension": ".py",
   "mimetype": "text/x-python",
   "name": "python",
   "nbconvert_exporter": "python",
   "pygments_lexer": "ipython3",
   "version": "3.10.12"
  }
 },
 "nbformat": 4,
 "nbformat_minor": 2
}
